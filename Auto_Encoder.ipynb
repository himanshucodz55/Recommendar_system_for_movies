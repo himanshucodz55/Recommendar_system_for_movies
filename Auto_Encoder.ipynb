{
 "cells": [
  {
   "cell_type": "markdown",
   "metadata": {},
   "source": [
    "#  Movies Rsting Prediction using AutoEncoders"
   ]
  },
  {
   "cell_type": "markdown",
   "metadata": {},
   "source": [
    "### Importing the libraries"
   ]
  },
  {
   "cell_type": "code",
   "execution_count": 3,
   "metadata": {},
   "outputs": [],
   "source": [
    "import numpy as np\n",
    "import pandas as pd\n",
    "import torch\n",
    "import torch.nn as nn\n",
    "import torch.nn.parallel\n",
    "import torch.optim as optim\n",
    "import torch.utils.data\n",
    "from torch.autograd import Variable\n"
   ]
  },
  {
   "cell_type": "markdown",
   "metadata": {},
   "source": [
    "### Importing the dataset"
   ]
  },
  {
   "cell_type": "code",
   "execution_count": 5,
   "metadata": {},
   "outputs": [],
   "source": [
    "movies = pd.read_csv('ml-1m/movies.dat', sep='::', header=None, engine='python', encoding='latin-1')\n",
    "users = pd.read_csv('ml-1m/users.dat', sep='::', header=None, engine='python', encoding='latin-1')\n",
    "ratings = pd.read_csv('ml-1m/ratings.dat', sep='::', header=None, engine='python', encoding='latin-1')\n"
   ]
  },
  {
   "cell_type": "markdown",
   "metadata": {},
   "source": [
    "### Preparing the training set and the test set"
   ]
  },
  {
   "cell_type": "code",
   "execution_count": 7,
   "metadata": {},
   "outputs": [],
   "source": [
    "training_set = pd.read_csv('ml-100k/u1.base', delimiter='\\t')\n",
    "training_set = np.array(training_set, dtype='int')\n",
    "test_set = pd.read_csv('ml-100k/u1.test', delimiter='\\t')\n",
    "test_set = np.array(test_set, dtype='int')\n"
   ]
  },
  {
   "cell_type": "markdown",
   "metadata": {},
   "source": [
    "### Getting the number of users and movies"
   ]
  },
  {
   "cell_type": "code",
   "execution_count": 9,
   "metadata": {},
   "outputs": [],
   "source": [
    "nb_users = int(max(max(training_set[:, 0]), max(test_set[:, 0])))\n",
    "nb_movies = int(max(max(training_set[:, 1]), max(test_set[:, 1])))\n"
   ]
  },
  {
   "cell_type": "markdown",
   "metadata": {},
   "source": [
    "### Converting the data into an array with users in lines and movies in columns"
   ]
  },
  {
   "cell_type": "code",
   "execution_count": 11,
   "metadata": {},
   "outputs": [],
   "source": [
    "def convert(data):\n",
    "    new_data = []\n",
    "    for id_users in range(1, nb_users + 1):\n",
    "        id_movies = data[:, 1][data[:, 0] == id_users]\n",
    "        id_ratings = data[:, 2][data[:, 0] == id_users]\n",
    "        ratings = np.zeros(nb_movies)\n",
    "        ratings[id_movies - 1] = id_ratings\n",
    "        new_data.append(list(ratings))\n",
    "    return new_data\n",
    "\n"
   ]
  },
  {
   "cell_type": "markdown",
   "metadata": {},
   "source": [
    "### Array with users in lines and movies in columns\n",
    "### [user_1, user_2, ..., user_943]\n",
    "### [[movie_1_rating] [movie_2_rating] ... [movie_1682_rating]]"
   ]
  },
  {
   "cell_type": "code",
   "execution_count": 13,
   "metadata": {},
   "outputs": [],
   "source": [
    "training_set = convert(training_set)\n",
    "test_set = convert(test_set)\n"
   ]
  },
  {
   "cell_type": "markdown",
   "metadata": {},
   "source": [
    "### Converting the data into Torch tensors"
   ]
  },
  {
   "cell_type": "code",
   "execution_count": 15,
   "metadata": {},
   "outputs": [],
   "source": [
    "training_set = torch.FloatTensor(training_set)#.cuda()\n",
    "test_set = torch.FloatTensor(test_set)#.cuda()\n"
   ]
  },
  {
   "cell_type": "markdown",
   "metadata": {},
   "source": [
    "### Creating the architecture of neural network"
   ]
  },
  {
   "cell_type": "code",
   "execution_count": 23,
   "metadata": {},
   "outputs": [],
   "source": [
    "class SAE(nn.Module):\n",
    "    def __init__(self, ):\n",
    "        super(SAE,self).__init__()\n",
    "        self.fc1=nn.Linear(nb_movies,20)\n",
    "        self.fc2=nn.Linear(20,10)\n",
    "        self.fc3=nn.Linear(10,20)\n",
    "        self.fc4=nn.Linear(20,nb_movies)\n",
    "        self.activation=nn.Sigmoid()\n",
    "        \n",
    "    def forward(self,x):\n",
    "        x=self.activation(self.fc1(x))\n",
    "        x=self.activation(self.fc2(x))\n",
    "        x=self.activation(self.fc3(x))\n",
    "        x=self.fc4(x)\n",
    "        return x\n",
    "    "
   ]
  },
  {
   "cell_type": "code",
   "execution_count": 24,
   "metadata": {},
   "outputs": [],
   "source": [
    "sae=SAE()\n",
    "criterion=nn.MSELoss()\n",
    "optimizer=optim.RMSprop(sae.parameters(),lr=0.01, weight_decay=0.5)"
   ]
  },
  {
   "cell_type": "markdown",
   "metadata": {},
   "source": [
    "### Training the SAE"
   ]
  },
  {
   "cell_type": "code",
   "execution_count": 26,
   "metadata": {},
   "outputs": [
    {
     "name": "stdout",
     "output_type": "stream",
     "text": [
      "epoch: 1loss: tensor(1.7655)\n",
      "epoch: 2loss: tensor(1.0966)\n",
      "epoch: 3loss: tensor(1.0533)\n",
      "epoch: 4loss: tensor(1.0383)\n",
      "epoch: 5loss: tensor(1.0310)\n",
      "epoch: 6loss: tensor(1.0266)\n",
      "epoch: 7loss: tensor(1.0239)\n",
      "epoch: 8loss: tensor(1.0219)\n",
      "epoch: 9loss: tensor(1.0207)\n",
      "epoch: 10loss: tensor(1.0196)\n",
      "epoch: 11loss: tensor(1.0189)\n",
      "epoch: 12loss: tensor(1.0184)\n",
      "epoch: 13loss: tensor(1.0177)\n",
      "epoch: 14loss: tensor(1.0177)\n",
      "epoch: 15loss: tensor(1.0175)\n",
      "epoch: 16loss: tensor(1.0169)\n",
      "epoch: 17loss: tensor(1.0169)\n",
      "epoch: 18loss: tensor(1.0165)\n",
      "epoch: 19loss: tensor(1.0164)\n",
      "epoch: 20loss: tensor(1.0164)\n",
      "epoch: 21loss: tensor(1.0160)\n",
      "epoch: 22loss: tensor(1.0161)\n",
      "epoch: 23loss: tensor(1.0159)\n",
      "epoch: 24loss: tensor(1.0159)\n",
      "epoch: 25loss: tensor(1.0158)\n",
      "epoch: 26loss: tensor(1.0156)\n",
      "epoch: 27loss: tensor(1.0154)\n",
      "epoch: 28loss: tensor(1.0152)\n",
      "epoch: 29loss: tensor(1.0131)\n",
      "epoch: 30loss: tensor(1.0114)\n",
      "epoch: 31loss: tensor(1.0103)\n",
      "epoch: 32loss: tensor(1.0079)\n",
      "epoch: 33loss: tensor(1.0073)\n",
      "epoch: 34loss: tensor(1.0045)\n",
      "epoch: 35loss: tensor(1.0040)\n",
      "epoch: 36loss: tensor(1.0002)\n",
      "epoch: 37loss: tensor(0.9982)\n",
      "epoch: 38loss: tensor(0.9967)\n",
      "epoch: 39loss: tensor(0.9941)\n",
      "epoch: 40loss: tensor(0.9944)\n",
      "epoch: 41loss: tensor(0.9919)\n",
      "epoch: 42loss: tensor(0.9910)\n",
      "epoch: 43loss: tensor(0.9877)\n",
      "epoch: 44loss: tensor(0.9868)\n",
      "epoch: 45loss: tensor(0.9825)\n",
      "epoch: 46loss: tensor(0.9816)\n",
      "epoch: 47loss: tensor(0.9829)\n",
      "epoch: 48loss: tensor(0.9778)\n",
      "epoch: 49loss: tensor(0.9800)\n",
      "epoch: 50loss: tensor(0.9845)\n",
      "epoch: 51loss: tensor(0.9834)\n",
      "epoch: 52loss: tensor(0.9833)\n",
      "epoch: 53loss: tensor(0.9824)\n",
      "epoch: 54loss: tensor(0.9737)\n",
      "epoch: 55loss: tensor(0.9770)\n",
      "epoch: 56loss: tensor(0.9785)\n",
      "epoch: 57loss: tensor(0.9769)\n",
      "epoch: 58loss: tensor(0.9713)\n",
      "epoch: 59loss: tensor(0.9694)\n",
      "epoch: 60loss: tensor(0.9667)\n",
      "epoch: 61loss: tensor(0.9644)\n",
      "epoch: 62loss: tensor(0.9609)\n",
      "epoch: 63loss: tensor(0.9635)\n",
      "epoch: 64loss: tensor(0.9631)\n",
      "epoch: 65loss: tensor(0.9674)\n",
      "epoch: 66loss: tensor(0.9628)\n",
      "epoch: 67loss: tensor(0.9636)\n",
      "epoch: 68loss: tensor(0.9649)\n",
      "epoch: 69loss: tensor(0.9609)\n",
      "epoch: 70loss: tensor(0.9574)\n",
      "epoch: 71loss: tensor(0.9577)\n",
      "epoch: 72loss: tensor(0.9545)\n",
      "epoch: 73loss: tensor(0.9548)\n",
      "epoch: 74loss: tensor(0.9519)\n",
      "epoch: 75loss: tensor(0.9528)\n",
      "epoch: 76loss: tensor(0.9507)\n",
      "epoch: 77loss: tensor(0.9530)\n",
      "epoch: 78loss: tensor(0.9492)\n",
      "epoch: 79loss: tensor(0.9512)\n",
      "epoch: 80loss: tensor(0.9474)\n",
      "epoch: 81loss: tensor(0.9487)\n",
      "epoch: 82loss: tensor(0.9463)\n",
      "epoch: 83loss: tensor(0.9540)\n",
      "epoch: 84loss: tensor(0.9540)\n",
      "epoch: 85loss: tensor(0.9548)\n",
      "epoch: 86loss: tensor(0.9524)\n",
      "epoch: 87loss: tensor(0.9513)\n",
      "epoch: 88loss: tensor(0.9473)\n",
      "epoch: 89loss: tensor(0.9459)\n",
      "epoch: 90loss: tensor(0.9458)\n",
      "epoch: 91loss: tensor(0.9458)\n",
      "epoch: 92loss: tensor(0.9453)\n",
      "epoch: 93loss: tensor(0.9443)\n",
      "epoch: 94loss: tensor(0.9432)\n",
      "epoch: 95loss: tensor(0.9414)\n",
      "epoch: 96loss: tensor(0.9414)\n",
      "epoch: 97loss: tensor(0.9400)\n",
      "epoch: 98loss: tensor(0.9415)\n",
      "epoch: 99loss: tensor(0.9398)\n",
      "epoch: 100loss: tensor(0.9387)\n",
      "epoch: 101loss: tensor(0.9394)\n",
      "epoch: 102loss: tensor(0.9382)\n",
      "epoch: 103loss: tensor(0.9389)\n",
      "epoch: 104loss: tensor(0.9378)\n",
      "epoch: 105loss: tensor(0.9375)\n",
      "epoch: 106loss: tensor(0.9367)\n",
      "epoch: 107loss: tensor(0.9375)\n",
      "epoch: 108loss: tensor(0.9361)\n",
      "epoch: 109loss: tensor(0.9360)\n",
      "epoch: 110loss: tensor(0.9357)\n",
      "epoch: 111loss: tensor(0.9359)\n",
      "epoch: 112loss: tensor(0.9345)\n",
      "epoch: 113loss: tensor(0.9351)\n",
      "epoch: 114loss: tensor(0.9340)\n",
      "epoch: 115loss: tensor(0.9343)\n",
      "epoch: 116loss: tensor(0.9333)\n",
      "epoch: 117loss: tensor(0.9330)\n",
      "epoch: 118loss: tensor(0.9319)\n",
      "epoch: 119loss: tensor(0.9327)\n",
      "epoch: 120loss: tensor(0.9316)\n",
      "epoch: 121loss: tensor(0.9325)\n",
      "epoch: 122loss: tensor(0.9318)\n",
      "epoch: 123loss: tensor(0.9323)\n",
      "epoch: 124loss: tensor(0.9314)\n",
      "epoch: 125loss: tensor(0.9300)\n",
      "epoch: 126loss: tensor(0.9298)\n",
      "epoch: 127loss: tensor(0.9313)\n",
      "epoch: 128loss: tensor(0.9293)\n",
      "epoch: 129loss: tensor(0.9308)\n",
      "epoch: 130loss: tensor(0.9289)\n",
      "epoch: 131loss: tensor(0.9297)\n",
      "epoch: 132loss: tensor(0.9279)\n",
      "epoch: 133loss: tensor(0.9293)\n",
      "epoch: 134loss: tensor(0.9271)\n",
      "epoch: 135loss: tensor(0.9288)\n",
      "epoch: 136loss: tensor(0.9270)\n",
      "epoch: 137loss: tensor(0.9278)\n",
      "epoch: 138loss: tensor(0.9261)\n",
      "epoch: 139loss: tensor(0.9275)\n",
      "epoch: 140loss: tensor(0.9260)\n",
      "epoch: 141loss: tensor(0.9265)\n",
      "epoch: 142loss: tensor(0.9257)\n",
      "epoch: 143loss: tensor(0.9267)\n",
      "epoch: 144loss: tensor(0.9253)\n",
      "epoch: 145loss: tensor(0.9260)\n",
      "epoch: 146loss: tensor(0.9248)\n",
      "epoch: 147loss: tensor(0.9252)\n",
      "epoch: 148loss: tensor(0.9241)\n",
      "epoch: 149loss: tensor(0.9246)\n",
      "epoch: 150loss: tensor(0.9232)\n",
      "epoch: 151loss: tensor(0.9245)\n",
      "epoch: 152loss: tensor(0.9237)\n",
      "epoch: 153loss: tensor(0.9240)\n",
      "epoch: 154loss: tensor(0.9221)\n",
      "epoch: 155loss: tensor(0.9229)\n",
      "epoch: 156loss: tensor(0.9218)\n",
      "epoch: 157loss: tensor(0.9229)\n",
      "epoch: 158loss: tensor(0.9212)\n",
      "epoch: 159loss: tensor(0.9224)\n",
      "epoch: 160loss: tensor(0.9212)\n",
      "epoch: 161loss: tensor(0.9214)\n",
      "epoch: 162loss: tensor(0.9207)\n",
      "epoch: 163loss: tensor(0.9213)\n",
      "epoch: 164loss: tensor(0.9200)\n",
      "epoch: 165loss: tensor(0.9208)\n",
      "epoch: 166loss: tensor(0.9199)\n",
      "epoch: 167loss: tensor(0.9204)\n",
      "epoch: 168loss: tensor(0.9192)\n",
      "epoch: 169loss: tensor(0.9201)\n",
      "epoch: 170loss: tensor(0.9192)\n",
      "epoch: 171loss: tensor(0.9194)\n",
      "epoch: 172loss: tensor(0.9188)\n",
      "epoch: 173loss: tensor(0.9192)\n",
      "epoch: 174loss: tensor(0.9182)\n",
      "epoch: 175loss: tensor(0.9192)\n",
      "epoch: 176loss: tensor(0.9180)\n",
      "epoch: 177loss: tensor(0.9185)\n",
      "epoch: 178loss: tensor(0.9176)\n",
      "epoch: 179loss: tensor(0.9180)\n",
      "epoch: 180loss: tensor(0.9172)\n",
      "epoch: 181loss: tensor(0.9174)\n",
      "epoch: 182loss: tensor(0.9171)\n",
      "epoch: 183loss: tensor(0.9178)\n",
      "epoch: 184loss: tensor(0.9167)\n",
      "epoch: 185loss: tensor(0.9176)\n",
      "epoch: 186loss: tensor(0.9164)\n",
      "epoch: 187loss: tensor(0.9166)\n",
      "epoch: 188loss: tensor(0.9159)\n",
      "epoch: 189loss: tensor(0.9165)\n",
      "epoch: 190loss: tensor(0.9155)\n",
      "epoch: 191loss: tensor(0.9160)\n",
      "epoch: 192loss: tensor(0.9154)\n",
      "epoch: 193loss: tensor(0.9160)\n",
      "epoch: 194loss: tensor(0.9151)\n",
      "epoch: 195loss: tensor(0.9157)\n",
      "epoch: 196loss: tensor(0.9149)\n",
      "epoch: 197loss: tensor(0.9157)\n",
      "epoch: 198loss: tensor(0.9149)\n",
      "epoch: 199loss: tensor(0.9146)\n",
      "epoch: 200loss: tensor(0.9144)\n"
     ]
    }
   ],
   "source": [
    "nb_epoch=200\n",
    "for epoch in range(1,nb_epoch+1):\n",
    "    train_loss=0\n",
    "    s=0.\n",
    "    for id_user in range(nb_users):\n",
    "        input=Variable(training_set[id_user].unsqueeze(0))\n",
    "        target=input.clone()\n",
    "        if torch.sum(target.data>0)>0:\n",
    "            output=sae(input)\n",
    "            target.require_grad=False\n",
    "            output[target==0]=0\n",
    "            loss=criterion(output,target)\n",
    "            mean_corrector=nb_movies/float(torch.sum(target.data>0)+1e-10)\n",
    "            loss.backward()\n",
    "            train_loss+=np.sqrt(loss.data*mean_corrector)\n",
    "            s+=1.\n",
    "            optimizer.step()\n",
    "    print('epoch: '+str(epoch)+'loss: '+str(train_loss/s))        "
   ]
  },
  {
   "cell_type": "markdown",
   "metadata": {},
   "source": [
    "### testing the SAE"
   ]
  },
  {
   "cell_type": "code",
   "execution_count": 29,
   "metadata": {},
   "outputs": [
    {
     "name": "stderr",
     "output_type": "stream",
     "text": [
      "C:\\Users\\Himanshu\\anaconda3\\envs\\tf1\\lib\\site-packages\\torch\\nn\\modules\\loss.py:432: UserWarning: Using a target size (torch.Size([1682])) that is different to the input size (torch.Size([1, 1682])). This will likely lead to incorrect results due to broadcasting. Please ensure they have the same size.\n",
      "  return F.mse_loss(input, target, reduction=self.reduction)\n"
     ]
    },
    {
     "ename": "NameError",
     "evalue": "name 'test_loss' is not defined",
     "output_type": "error",
     "traceback": [
      "\u001b[1;31m---------------------------------------------------------------------------\u001b[0m",
      "\u001b[1;31mNameError\u001b[0m                                 Traceback (most recent call last)",
      "\u001b[1;32m<ipython-input-29-86e154580719>\u001b[0m in \u001b[0;36m<module>\u001b[1;34m\u001b[0m\n\u001b[0;32m     11\u001b[0m \u001b[1;33m\u001b[0m\u001b[0m\n\u001b[0;32m     12\u001b[0m         \u001b[0mmean_corrector\u001b[0m \u001b[1;33m=\u001b[0m \u001b[0mnb_movies\u001b[0m \u001b[1;33m/\u001b[0m \u001b[0mfloat\u001b[0m\u001b[1;33m(\u001b[0m\u001b[0mtorch\u001b[0m\u001b[1;33m.\u001b[0m\u001b[0msum\u001b[0m\u001b[1;33m(\u001b[0m\u001b[0mtarget\u001b[0m\u001b[1;33m.\u001b[0m\u001b[0mdata\u001b[0m \u001b[1;33m>\u001b[0m \u001b[1;36m0\u001b[0m\u001b[1;33m)\u001b[0m \u001b[1;33m+\u001b[0m \u001b[1;36m1e-10\u001b[0m\u001b[1;33m)\u001b[0m\u001b[1;33m\u001b[0m\u001b[1;33m\u001b[0m\u001b[0m\n\u001b[1;32m---> 13\u001b[1;33m         \u001b[0mtest_loss\u001b[0m \u001b[1;33m+=\u001b[0m \u001b[0mnp\u001b[0m\u001b[1;33m.\u001b[0m\u001b[0msqrt\u001b[0m\u001b[1;33m(\u001b[0m\u001b[0mloss\u001b[0m\u001b[1;33m.\u001b[0m\u001b[0mdata\u001b[0m\u001b[1;33m[\u001b[0m\u001b[1;36m0\u001b[0m\u001b[1;33m]\u001b[0m \u001b[1;33m*\u001b[0m \u001b[0mmean_corrector\u001b[0m\u001b[1;33m)\u001b[0m\u001b[1;33m\u001b[0m\u001b[1;33m\u001b[0m\u001b[0m\n\u001b[0m\u001b[0;32m     14\u001b[0m         \u001b[0ms\u001b[0m \u001b[1;33m+=\u001b[0m \u001b[1;36m1.\u001b[0m\u001b[1;33m\u001b[0m\u001b[1;33m\u001b[0m\u001b[0m\n\u001b[0;32m     15\u001b[0m \u001b[0mprint\u001b[0m\u001b[1;33m(\u001b[0m\u001b[1;34m'test loss: '\u001b[0m \u001b[1;33m+\u001b[0m \u001b[0mstr\u001b[0m\u001b[1;33m(\u001b[0m\u001b[0mtest_loss\u001b[0m \u001b[1;33m/\u001b[0m \u001b[0ms\u001b[0m\u001b[1;33m)\u001b[0m\u001b[1;33m)\u001b[0m\u001b[1;33m\u001b[0m\u001b[1;33m\u001b[0m\u001b[0m\n",
      "\u001b[1;31mNameError\u001b[0m: name 'test_loss' is not defined"
     ]
    }
   ],
   "source": [
    "for id_user in range(nb_users):\n",
    "    # The training set contains movies that the user has not yet watched\n",
    "    input = Variable(training_set[id_user]).unsqueeze(0)\n",
    "    # The test set contains the movies that the user watched\n",
    "    target = Variable(test_set[id_user])\n",
    "    if torch.sum(target.data) > 0:\n",
    "        output = sae.forward(input)\n",
    "        target.require_grad = False\n",
    "        output[(target == 0).unsqueeze(0)] = 0\n",
    "        loss = criterion(output, target)\n",
    "\n",
    "        mean_corrector = nb_movies / float(torch.sum(target.data > 0) + 1e-10)\n",
    "        test_loss += np.sqrt(loss.data[0] * mean_corrector)\n",
    "        s += 1.\n",
    "print('test loss: ' + str(test_loss / s))\n"
   ]
  },
  {
   "cell_type": "code",
   "execution_count": null,
   "metadata": {},
   "outputs": [],
   "source": []
  }
 ],
 "metadata": {
  "kernelspec": {
   "display_name": "tf1",
   "language": "python",
   "name": "tf1"
  },
  "language_info": {
   "codemirror_mode": {
    "name": "ipython",
    "version": 3
   },
   "file_extension": ".py",
   "mimetype": "text/x-python",
   "name": "python",
   "nbconvert_exporter": "python",
   "pygments_lexer": "ipython3",
   "version": "3.7.7"
  }
 },
 "nbformat": 4,
 "nbformat_minor": 4
}
